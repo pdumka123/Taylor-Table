{
 "cells": [
  {
   "cell_type": "markdown",
   "metadata": {
    "id": "cdK9dNrjzDpc"
   },
   "source": [
    "Created by: [Dr. Pankaj Dumka](https://scholar.google.co.in/citations?user=sXWEmCoAAAAJ&hl=en&oi=ao)\n",
    "\n",
    "Department: [Mechanical Engineering Department, JUET](https://www.juet.ac.in/Department/faculty.php?id=136&department=Mechanical)"
   ]
  },
  {
   "cell_type": "markdown",
   "metadata": {
    "id": "uGxjXe8GzKK9"
   },
   "source": [
    "**Taylor's Table Method**"
   ]
  },
  {
   "cell_type": "code",
   "execution_count": 2,
   "metadata": {
    "id": "ExFLYPuOzABR"
   },
   "outputs": [],
   "source": [
    "from numpy import *\n",
    "from math import *\n",
    "\n",
    "#   TAYLOR SERIES COEFFICIENTS\n",
    "def taylor_coeff(n_t,a):\n",
    "    \"\"\"\n",
    "    n_t: Number of terms in the series\n",
    "    a: coefficient of h\n",
    "    \"\"\"\n",
    "    coeff=empty(n_t)\n",
    "    for i in range(n_t):\n",
    "        coeff[i]=a**i/factorial(i)\n",
    "\n",
    "    return coeff\n",
    "\n",
    "# TAYLOR'S TABLE METHOD\n",
    "def TT_method(st,O):\n",
    "\n",
    "    nt=len(st) # number of terms in the taylor table \n",
    "\n",
    "    if O<nt:\n",
    "\n",
    "        TT=empty((nt,nt))\n",
    "        for i in range(nt):\n",
    "            TT[i,:]=taylor_coeff(nt,st[i])\n",
    "        # TT\n",
    "\n",
    "        # RHS vector:\n",
    "        RHS=zeros(nt)\n",
    "\n",
    "\n",
    "        RHS[O]=1\n",
    "\n",
    "        a=linalg.solve(transpose(TT),transpose(RHS))\n",
    "\n",
    "        # print(a)\n",
    "\n",
    "        for i in range(nt):\n",
    "            print(f\"a[{i}] = {a[i]}/h^{O}\")\n",
    "    else:\n",
    "        print(\"The order of DE is more then the number of terms in stencil\")"
   ]
  },
  {
   "cell_type": "markdown",
   "metadata": {
    "id": "PJSfnp1abu4v"
   },
   "source": [
    "# Rules for creating Stencil\n",
    "\n",
    "\n",
    "#### The stencil array is created as follows\n",
    "1. $f_i$    --> 0\n",
    "2. $f_{i-1}$-->-1\n",
    "3. $f_{i+1}$--> 1\n",
    "4. $f_{i-2}$-->-2\n",
    "5. $f_{i+2}$--> 2"
   ]
  },
  {
   "cell_type": "markdown",
   "metadata": {},
   "source": [
    "# Exaple Problem 1\n",
    "$$\\frac{d^2 f}{dx^2}=a_0f_{i-1}+a_1 f_i+a_2 f_{i+1}$$"
   ]
  },
  {
   "cell_type": "code",
   "execution_count": 4,
   "metadata": {
    "colab": {
     "base_uri": "https://localhost:8080/"
    },
    "id": "N8RSp3LUzjVC",
    "outputId": "44ad4ff5-408e-48c6-d722-e5208dc6e5c2"
   },
   "outputs": [
    {
     "name": "stdout",
     "output_type": "stream",
     "text": [
      "a[0] = 1.0/h^2\n",
      "a[1] = -2.0/h^2\n",
      "a[2] = 1.0/h^2\n",
      "a[3] = 0.0/h^2\n"
     ]
    }
   ],
   "source": [
    "#Stencil\n",
    "st=array([-1,0,1,2]) \n",
    "\n",
    "# order of derivative\n",
    "order=2 \n",
    "\n",
    "# Calling function\n",
    "TT_method(st,order)"
   ]
  },
  {
   "cell_type": "markdown",
   "metadata": {
    "id": "5TIGjjbpelNd"
   },
   "source": [
    "# Exaple Problem 2\n",
    "$$\\frac{d^2 f}{dx^2}=a_0f_{i}+a_1 f_{i+1}+a_2 f_{i+2}+a_3 f_{i+3}$$\n"
   ]
  },
  {
   "cell_type": "code",
   "execution_count": 5,
   "metadata": {},
   "outputs": [
    {
     "name": "stdout",
     "output_type": "stream",
     "text": [
      "a[0] = 2.0/h^2\n",
      "a[1] = -5.0/h^2\n",
      "a[2] = 4.0/h^2\n",
      "a[3] = -1.0/h^2\n"
     ]
    }
   ],
   "source": [
    "#Stencil\n",
    "st=array([0,1,2,3]) \n",
    "\n",
    "# order of derivative\n",
    "order=2 \n",
    "\n",
    "# Calling function\n",
    "TT_method(st,order)"
   ]
  },
  {
   "cell_type": "code",
   "execution_count": null,
   "metadata": {},
   "outputs": [],
   "source": []
  }
 ],
 "metadata": {
  "colab": {
   "provenance": []
  },
  "kernelspec": {
   "display_name": "Python 3",
   "language": "python",
   "name": "python3"
  },
  "language_info": {
   "codemirror_mode": {
    "name": "ipython",
    "version": 3
   },
   "file_extension": ".py",
   "mimetype": "text/x-python",
   "name": "python",
   "nbconvert_exporter": "python",
   "pygments_lexer": "ipython3",
   "version": "3.8.5"
  }
 },
 "nbformat": 4,
 "nbformat_minor": 1
}
